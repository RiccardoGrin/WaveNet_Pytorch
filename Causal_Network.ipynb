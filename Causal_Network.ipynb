{
 "cells": [
  {
   "cell_type": "code",
   "execution_count": 1,
   "metadata": {
    "collapsed": true
   },
   "outputs": [],
   "source": [
    "import torch\n",
    "from torch.autograd import Variable\n",
    "import torch.nn as nn\n",
    "import torch.nn.functional as F\n",
    "import torch.optim as optim\n",
    "\n",
    "import numpy as np\n",
    "import pandas as pd \n",
    "import matplotlib.pyplot as plt\n",
    "import math\n",
    "\n",
    "% matplotlib inline"
   ]
  },
  {
   "cell_type": "markdown",
   "metadata": {},
   "source": [
    "This class was originally seen on https://github.com/pytorch/pytorch/issues/1333 and I am just trying to understand it so that I will then be able to do my own"
   ]
  },
  {
   "cell_type": "code",
   "execution_count": 47,
   "metadata": {
    "collapsed": true
   },
   "outputs": [],
   "source": [
    "class CausalConv1d(nn.Conv1d):\n",
    "    def __init__(self, in_channels, out_channels, kernel_size, stride=1, dilation=1, groups=1, bias=True):\n",
    "        super(CausalConv1d, self).__init__( in_channels, out_channels, kernel_size, stride=stride, padding=0,\n",
    "            dilation=dilation, groups=groups, bias=bias)\n",
    "\n",
    "        self.left_padding = dilation * (kernel_size - 1)\n",
    "\n",
    "    def forward(self, input):\n",
    "\n",
    "        temp = torch.unsqueeze(input, 0)\n",
    "\n",
    "        x = F.pad(temp, (self.left_padding, 0, 0, 0))\n",
    "\n",
    "        x = torch.squeeze(x, 0)\n",
    "\n",
    "# #         self.weight = nn.Parameter(torch.Tensor([[[2, 0]]]))\n",
    "#         self.weight = nn.Parameter(torch.randn(1,1,2))\n",
    "#         self.bias = nn.Parameter(torch.Tensor([0]))\n",
    "        \n",
    "        return super(CausalConv1d, self).forward(x)"
   ]
  },
  {
   "cell_type": "code",
   "execution_count": 48,
   "metadata": {},
   "outputs": [
    {
     "name": "stdout",
     "output_type": "stream",
     "text": [
      "CausalConv1d (1, 1, kernel_size=(2,), stride=(1,))\n"
     ]
    }
   ],
   "source": [
    "causal = CausalConv1d(1, 1, 2)\n",
    "print(causal)"
   ]
  },
  {
   "cell_type": "code",
   "execution_count": 49,
   "metadata": {
    "collapsed": true
   },
   "outputs": [],
   "source": [
    "criterion = nn.CrossEntropyLoss()\n",
    "optimizer = optim.SGD(causal.parameters(), lr=0.001, momentum=0.9)"
   ]
  },
  {
   "cell_type": "code",
   "execution_count": 50,
   "metadata": {
    "collapsed": true
   },
   "outputs": [],
   "source": [
    "b = pd.read_csv(\"file_path.csv\", header=None)"
   ]
  },
  {
   "cell_type": "code",
   "execution_count": 51,
   "metadata": {
    "collapsed": true
   },
   "outputs": [],
   "source": [
    "v = np.array(b)"
   ]
  },
  {
   "cell_type": "code",
   "execution_count": 52,
   "metadata": {
    "scrolled": false
   },
   "outputs": [
    {
     "name": "stdout",
     "output_type": "stream",
     "text": [
      "loss: 5.128\n",
      "loss: 5.770\n",
      "loss: 6.800\n",
      "loss: 7.436\n",
      "loss: 7.247\n",
      "loss: 5.995\n",
      "loss: 8.065\n",
      "loss: 8.837\n",
      "loss: 6.439\n",
      "loss: 6.833\n",
      "loss: 9.696\n",
      "loss: 6.143\n",
      "loss: 7.878\n",
      "loss: 7.983\n",
      "loss: 6.342\n",
      "loss: 6.208\n",
      "loss: 8.464\n",
      "loss: 6.636\n",
      "loss: 8.397\n",
      "loss: 7.353\n",
      "loss: 7.632\n",
      "loss: 6.114\n",
      "loss: 5.093\n",
      "loss: 6.458\n",
      "loss: 5.935\n",
      "loss: 6.600\n",
      "loss: 6.223\n",
      "loss: 6.576\n",
      "loss: 6.627\n",
      "loss: 6.003\n",
      "loss: 6.856\n",
      "loss: 7.112\n",
      "loss: 6.522\n",
      "loss: 6.978\n",
      "loss: 6.394\n",
      "loss: 8.131\n",
      "loss: 6.208\n",
      "loss: 7.190\n",
      "loss: 7.756\n",
      "loss: 6.764\n",
      "loss: 6.288\n",
      "loss: 7.918\n",
      "loss: 7.383\n",
      "loss: 8.830\n",
      "loss: 7.196\n",
      "loss: 7.304\n",
      "loss: 6.745\n",
      "loss: 5.806\n",
      "loss: 7.263\n",
      "loss: 7.169\n",
      "loss: 9.130\n",
      "loss: 6.136\n",
      "loss: 6.424\n",
      "loss: 5.487\n",
      "loss: 5.079\n",
      "loss: 4.871\n",
      "loss: 8.728\n",
      "loss: 6.008\n",
      "loss: 7.440\n",
      "loss: 6.942\n",
      "loss: 6.978\n",
      "loss: 6.274\n",
      "loss: 6.690\n",
      "loss: 6.058\n",
      "loss: 7.160\n",
      "loss: 6.619\n",
      "loss: 6.170\n",
      "loss: 6.691\n",
      "loss: 8.350\n",
      "loss: 5.027\n",
      "loss: 8.815\n",
      "loss: 7.950\n",
      "loss: 6.963\n",
      "loss: 6.829\n",
      "loss: 9.169\n",
      "loss: 8.286\n",
      "loss: 5.798\n",
      "loss: 7.493\n",
      "loss: 6.055\n",
      "loss: 8.270\n",
      "loss: 7.479\n",
      "loss: 6.457\n",
      "loss: 5.685\n",
      "loss: 6.881\n",
      "loss: 7.082\n",
      "loss: 5.420\n",
      "loss: 5.978\n",
      "loss: 5.894\n",
      "loss: 5.082\n",
      "loss: 7.369\n",
      "loss: 8.925\n",
      "loss: 5.804\n",
      "loss: 5.500\n",
      "loss: 9.437\n",
      "loss: 7.240\n",
      "loss: 8.206\n",
      "loss: 5.647\n",
      "loss: 5.912\n",
      "loss: 6.722\n",
      "loss: 6.014\n",
      "Finished Training\n"
     ]
    },
    {
     "data": {
      "image/png": "[encoded data removed]",
      "text/plain": [
       "<matplotlib.figure.Figure at 0x7f2cc5025b00>"
      ]
     },
     "metadata": {},
     "output_type": "display_data"
    }
   ],
   "source": [
    "running_loss = 0.0\n",
    "i = 0\n",
    "temp = []\n",
    "for row in v:\n",
    "    \n",
    "    # get the inputs\n",
    "    inputs = row[0:99].astype(np.float)\n",
    "    target = row[99:100]\n",
    "\n",
    "    # wrap them in Variable\n",
    "#     target = Variable(torch.Tensor(target)).type(torch.LongTensor)\n",
    "#     inputs = Variable(torch.Tensor([[inputs]]))\n",
    "    \n",
    "    target = Variable(torch.Tensor(target)).type(torch.LongTensor)\n",
    "    inputs = Variable(torch.Tensor([[inputs]]))\n",
    "    \n",
    "    # zero the parameter gradients\n",
    "    optimizer.zero_grad()\n",
    "\n",
    "    # forward + backward + optimize\n",
    "    outputs = causal(inputs)\n",
    "    outputs = torch.squeeze(outputs, 0)\n",
    "    loss = criterion(outputs, target)\n",
    "    loss.backward()\n",
    "    optimizer.step()\n",
    "\n",
    "    # print statistics\n",
    "    running_loss += loss.data[0]\n",
    "    if i % 100 == 99:\n",
    "        temp.append(running_loss/100)\n",
    "        print('loss: %.3f' % (running_loss / 100))\n",
    "        running_loss = 0.0\n",
    "\n",
    "    i+=1\n",
    "    \n",
    "plt.plot(temp)\n",
    "plt.show\n",
    "\n",
    "print('Finished Training')"
   ]
  },
  {
   "cell_type": "markdown",
   "metadata": {},
   "source": [
    "# Generating and saving sine data"
   ]
  },
  {
   "cell_type": "code",
   "execution_count": 26,
   "metadata": {},
   "outputs": [],
   "source": [
    "def SinGenerator():\n",
    "    start = np.random.randint(-10, 10, size=1)\n",
    "    x = np.linspace(start, start+2*np.pi, 100)\n",
    "    sine = (np.sin(x) + 1 )* 30\n",
    "    sine = np.ndarray.astype(sine, int)\n",
    "    return sine"
   ]
  },
  {
   "cell_type": "code",
   "execution_count": null,
   "metadata": {
    "scrolled": true
   },
   "outputs": [],
   "source": [
    "sine = SinGenerator()\n",
    "plt.plot(sine)\n",
    "plt.show"
   ]
  },
  {
   "cell_type": "code",
   "execution_count": 35,
   "metadata": {},
   "outputs": [],
   "source": [
    "data = []\n",
    "for _ in range(10000):\n",
    "    data.append(SinGenerator())"
   ]
  },
  {
   "cell_type": "code",
   "execution_count": 36,
   "metadata": {
    "collapsed": true
   },
   "outputs": [],
   "source": [
    "df = pd.DataFrame(data)\n",
    "df.to_csv(\"file_path.csv\", index=False, header=False)"
   ]
  }
 ],
 "metadata": {
  "kernelspec": {
   "display_name": "Python 3",
   "language": "python",
   "name": "python3"
  },
  "language_info": {
   "codemirror_mode": {
    "name": "ipython",
    "version": 3
   },
   "file_extension": ".py",
   "mimetype": "text/x-python",
   "name": "python",
   "nbconvert_exporter": "python",
   "pygments_lexer": "ipython3",
   "version": "3.6.3"
  }
 },
 "nbformat": 4,
 "nbformat_minor": 2
}
