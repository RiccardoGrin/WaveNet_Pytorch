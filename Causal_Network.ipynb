{
 "cells": [
  {
   "cell_type": "code",
   "execution_count": 11,
   "metadata": {
    "collapsed": true
   },
   "outputs": [],
   "source": [
    "import torch\n",
    "from torch.autograd import Variable\n",
    "import torch.nn as nn\n",
    "import torch.nn.functional as F\n",
    "import torch.optim as optim\n",
    "\n",
    "import numpy as np"
   ]
  },
  {
   "cell_type": "code",
   "execution_count": 2,
   "metadata": {},
   "outputs": [],
   "source": [
    "class CausalConv1d(nn.Conv1d):\n",
    "    def __init__(self,\n",
    "                 in_channels,\n",
    "                 out_channels,\n",
    "                 kernel_size,\n",
    "                 stride=1,\n",
    "                 dilation=1,\n",
    "                 groups=1,\n",
    "                 bias=True):\n",
    "        super(CausalConv1d, self).__init__(\n",
    "            in_channels,\n",
    "            out_channels,\n",
    "            kernel_size,\n",
    "            stride=stride,\n",
    "            padding=0,\n",
    "            dilation=dilation,\n",
    "            groups=groups,\n",
    "            bias=bias)\n",
    "\n",
    "        self.left_padding = dilation * (kernel_size - 1)\n",
    "\n",
    "    def forward(self, input):\n",
    "        x = F.pad(input.unsqueeze(2), (self.left_padding, 0, 0, 0)).squeeze(1)\n",
    "\n",
    "        return super(CausalConv1d, self).forward(x)"
   ]
  },
  {
   "cell_type": "code",
   "execution_count": 3,
   "metadata": {},
   "outputs": [
    {
     "name": "stdout",
     "output_type": "stream",
     "text": [
      "CausalConv1d (4, 4, kernel_size=(2,), stride=(1,))\n"
     ]
    }
   ],
   "source": [
    "causal = CausalConv1d(4, 4, 2)\n",
    "print(causal)"
   ]
  },
  {
   "cell_type": "code",
   "execution_count": 4,
   "metadata": {
    "collapsed": true
   },
   "outputs": [
    {
     "name": "stdout",
     "output_type": "stream",
     "text": [
      "[Parameter containing:\n",
      "(0 ,.,.) = \n",
      "  0.1972 -0.1522\n",
      "  0.0947  0.3348\n",
      " -0.2032 -0.2343\n",
      "  0.0013  0.1489\n",
      "\n",
      "(1 ,.,.) = \n",
      " -0.1403  0.0836\n",
      "  0.3381  0.1465\n",
      " -0.2728 -0.3497\n",
      " -0.0005  0.3177\n",
      "\n",
      "(2 ,.,.) = \n",
      " -0.2204 -0.3228\n",
      " -0.2327 -0.1988\n",
      " -0.2115 -0.2861\n",
      "  0.1699  0.0782\n",
      "\n",
      "(3 ,.,.) = \n",
      " -0.2387 -0.3519\n",
      " -0.0392 -0.0722\n",
      " -0.1853 -0.3001\n",
      "  0.3254  0.0656\n",
      "[torch.FloatTensor of size 4x4x2]\n",
      ", Parameter containing:\n",
      "-0.1365\n",
      "-0.1545\n",
      "-0.1244\n",
      "-0.1619\n",
      "[torch.FloatTensor of size 4]\n",
      "]\n"
     ]
    }
   ],
   "source": [
    "params = list(causal.parameters())\n",
    "print(params)"
   ]
  },
  {
   "cell_type": "code",
   "execution_count": 6,
   "metadata": {},
   "outputs": [],
   "source": [
    "criterion = nn.CrossEntropyLoss()\n",
    "optimizer = optim.SGD(causal.parameters(), lr=0.001, momentum=0.9)"
   ]
  },
  {
   "cell_type": "markdown",
   "metadata": {},
   "source": [
    "Create the input and target vectors, turn"
   ]
  },
  {
   "cell_type": "code",
   "execution_count": 7,
   "metadata": {},
   "outputs": [
    {
     "name": "stdout",
     "output_type": "stream",
     "text": [
      "Variable containing:\n",
      "  0   2  10   4\n",
      "[torch.FloatTensor of size 1x4]\n",
      "\n"
     ]
    }
   ],
   "source": [
    "x = np.array([[1,5,2,3]]) # by placing additional brackets around the array, it goes from size 4 to 1*4\n",
    "input = torch.from_numpy(x).type(torch.FloatTensor) # turn a numpy array to a torch tensor and specify the type\n",
    "print(input)\n",
    "\n",
    "y = np.array([[0,2,10,4]]) # by placing additional brackets around the array, it goes from size 4 to 1*4\n",
    "target = Variable(torch.from_numpy(y).type(torch.FloatTensor)) # turn a numpy array to a torch tensor and specify the type\n",
    "print(target)"
   ]
  },
  {
   "cell_type": "code",
   "execution_count": null,
   "metadata": {
    "collapsed": true
   },
   "outputs": [],
   "source": [
    "input = Variable(b)\n",
    "out = causal(input)\n",
    "print(out)"
   ]
  },
  {
   "cell_type": "code",
   "execution_count": null,
   "metadata": {},
   "outputs": [],
   "source": [
    "# in your training loop:\n",
    "optimizer.zero_grad()   # zero the gradient buffers\n",
    "output = causal(input)\n",
    "loss = criterion(output, target)\n",
    "loss.backward()\n",
    "optimizer.step()"
   ]
  },
  {
   "cell_type": "code",
   "execution_count": null,
   "metadata": {
    "collapsed": true
   },
   "outputs": [],
   "source": [
    "causal.zero_grad()\n",
    "out.backward(torch.randn(1, 10))"
   ]
  },
  {
   "cell_type": "code",
   "execution_count": null,
   "metadata": {},
   "outputs": [],
   "source": [
    "import torch.optim as optim\n",
    "\n",
    "criterion = nn.CrossEntropyLoss()\n",
    "optimizer = optim.SGD(causal.parameters(), lr=0.001, momentum=0.9)"
   ]
  },
  {
   "cell_type": "code",
   "execution_count": null,
   "metadata": {
    "collapsed": true
   },
   "outputs": [],
   "source": []
  }
 ],
 "metadata": {
  "kernelspec": {
   "display_name": "Python 3",
   "language": "python",
   "name": "python3"
  },
  "language_info": {
   "codemirror_mode": {
    "name": "ipython",
    "version": 3
   },
   "file_extension": ".py",
   "mimetype": "text/x-python",
   "name": "python",
   "nbconvert_exporter": "python",
   "pygments_lexer": "ipython3",
   "version": "3.6.3"
  }
 },
 "nbformat": 4,
 "nbformat_minor": 2
}
