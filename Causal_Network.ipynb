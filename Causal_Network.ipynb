{
 "cells": [
  {
   "cell_type": "code",
   "execution_count": 1,
   "metadata": {
    "collapsed": true
   },
   "outputs": [],
   "source": [
    "import torch\n",
    "from torch.autograd import Variable\n",
    "import torch.nn as nn\n",
    "import torch.nn.functional as F\n",
    "import torch.optim as optim"
   ]
  },
  {
   "cell_type": "markdown",
   "metadata": {},
   "source": [
    "This class was originally seen on https://github.com/pytorch/pytorch/issues/1333 and I am just trying to understand it so that I will then be able to do my own"
   ]
  },
  {
   "cell_type": "code",
   "execution_count": 2,
   "metadata": {
    "collapsed": true
   },
   "outputs": [],
   "source": [
    "class CausalConv1d(nn.Conv1d):\n",
    "    def __init__(self, in_channels, out_channels, kernel_size, stride=1, dilation=1, groups=1, bias=True):\n",
    "        super(CausalConv1d, self).__init__( in_channels, out_channels, kernel_size, stride=stride, padding=0,\n",
    "            dilation=dilation, groups=groups, bias=bias)\n",
    "\n",
    "        self.left_padding = dilation * (kernel_size - 1)\n",
    "\n",
    "    def forward(self, input):\n",
    "#         print(\"Input: \")\n",
    "#         print(input)\n",
    "        \n",
    "        temp = torch.unsqueeze(input, 0)\n",
    "#         print(\"Unsqueeze: \")\n",
    "#         print(temp)\n",
    "        \n",
    "        x = F.pad(temp, (self.left_padding, 0, 0, 0))\n",
    "#         print(\"Pad: \")\n",
    "#         print(x)\n",
    "        \n",
    "        x = torch.squeeze(x, 0)\n",
    "#         print(\"Squeeze: \")\n",
    "#         print(x)\n",
    "        \n",
    "        self.weight = nn.Parameter(torch.Tensor([[[2, 0]]]))\n",
    "#         print(\"Wheights: \")\n",
    "#         print(self.weight)\n",
    "        \n",
    "        self.bias = nn.Parameter(torch.Tensor([0]))\n",
    "#         print(\"Bias: \")\n",
    "#         print(self.bias)\n",
    "        \n",
    "        return super(CausalConv1d, self).forward(x)"
   ]
  },
  {
   "cell_type": "code",
   "execution_count": 3,
   "metadata": {},
   "outputs": [
    {
     "name": "stdout",
     "output_type": "stream",
     "text": [
      "CausalConv1d (1, 1, kernel_size=(2,), stride=(1,))\n"
     ]
    }
   ],
   "source": [
    "causal = CausalConv1d(1, 1, 2)\n",
    "print(causal)"
   ]
  },
  {
   "cell_type": "code",
   "execution_count": 4,
   "metadata": {
    "collapsed": true
   },
   "outputs": [],
   "source": [
    "criterion = nn.CrossEntropyLoss()\n",
    "optimizer = optim.SGD(causal.parameters(), lr=0.001, momentum=0.9)"
   ]
  },
  {
   "cell_type": "code",
   "execution_count": 5,
   "metadata": {
    "scrolled": true
   },
   "outputs": [
    {
     "name": "stdout",
     "output_type": "stream",
     "text": [
      "Variable containing:\n",
      "(0 ,.,.) = \n",
      "  1  2  3  4\n",
      "[torch.FloatTensor of size 1x1x4]\n",
      "\n",
      "Variable containing:\n",
      " 0\n",
      "[torch.LongTensor of size 1]\n",
      "\n"
     ]
    }
   ],
   "source": [
    "input = Variable(torch.Tensor([[[1, 2, 3, 4]]]).type(torch.FloatTensor))\n",
    "print(input)\n",
    "\n",
    "target = Variable(torch.Tensor([0]).type(torch.LongTensor))\n",
    "print(target)"
   ]
  },
  {
   "cell_type": "code",
   "execution_count": 6,
   "metadata": {},
   "outputs": [
    {
     "name": "stdout",
     "output_type": "stream",
     "text": [
      "Variable containing:\n",
      "(0 ,.,.) = \n",
      "  0  2  4  6\n",
      "[torch.FloatTensor of size 1x1x4]\n",
      "\n",
      "Variable containing:\n",
      " 0  2  4  6\n",
      "[torch.FloatTensor of size 1x4]\n",
      "\n"
     ]
    }
   ],
   "source": [
    "output = causal(input)\n",
    "print(output)\n",
    "output = torch.squeeze(output, 0)\n",
    "print(output)"
   ]
  },
  {
   "cell_type": "code",
   "execution_count": null,
   "metadata": {},
   "outputs": [],
   "source": [
    "optimizer.zero_grad()   # zero the gradient buffers\n",
    "loss = criterion(output, target)\n",
    "loss.backward()\n",
    "optimizer.step()"
   ]
  },
  {
   "cell_type": "code",
   "execution_count": null,
   "metadata": {},
   "outputs": [],
   "source": [
    "Variable(torch.arange(1, 11))"
   ]
  },
  {
   "cell_type": "code",
   "execution_count": 10,
   "metadata": {},
   "outputs": [
    {
     "name": "stdout",
     "output_type": "stream",
     "text": [
      "Parameter containing:\n",
      "(0 ,.,.) = \n",
      " -2.2297  0.0000\n",
      "[torch.FloatTensor of size 1x1x2]\n",
      "\n"
     ]
    }
   ],
   "source": [
    "import numpy as np\n",
    "a = torch.randn(1,1,2)\n",
    "b = a.numpy()\n",
    "b[:,:,1] = 0\n",
    "c = torch.from_numpy(b)\n",
    "weight = nn.Parameter(c)\n",
    "print(weight)"
   ]
  },
  {
   "cell_type": "code",
   "execution_count": 31,
   "metadata": {},
   "outputs": [
    {
     "name": "stdout",
     "output_type": "stream",
     "text": [
      "Parameter containing:\n",
      "(0 ,.,.) = \n",
      "  2.9547  0.3149\n",
      "[torch.FloatTensor of size 1x1x2]\n",
      "\n",
      "Parameter containing:\n",
      "(0 ,.,.) = \n",
      "  1  0\n",
      "[torch.FloatTensor of size 1x1x2]\n",
      "\n"
     ]
    },
    {
     "data": {
      "text/plain": [
       "Variable containing:\n",
       "(0 ,.,.) = \n",
       "  2.9547  0.0000\n",
       "[torch.FloatTensor of size 1x1x2]"
      ]
     },
     "execution_count": 31,
     "metadata": {},
     "output_type": "execute_result"
    }
   ],
   "source": [
    "weight = nn.Parameter(torch.randn(1,1,2))\n",
    "print(weight)\n",
    "mask = nn.Parameter(torch.Tensor([[[1, 0]]]))\n",
    "print(mask)\n",
    "weight*mask[0]"
   ]
  },
  {
   "cell_type": "code",
   "execution_count": null,
   "metadata": {
    "collapsed": true
   },
   "outputs": [],
   "source": []
  }
 ],
 "metadata": {
  "kernelspec": {
   "display_name": "Python 3",
   "language": "python",
   "name": "python3"
  },
  "language_info": {
   "codemirror_mode": {
    "name": "ipython",
    "version": 3
   },
   "file_extension": ".py",
   "mimetype": "text/x-python",
   "name": "python",
   "nbconvert_exporter": "python",
   "pygments_lexer": "ipython3",
   "version": "3.6.3"
  }
 },
 "nbformat": 4,
 "nbformat_minor": 2
}
