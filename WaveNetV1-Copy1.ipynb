{
 "cells": [
  {
   "cell_type": "code",
   "execution_count": 1,
   "metadata": {
    "collapsed": true
   },
   "outputs": [],
   "source": [
    "import torch\n",
    "from torch.autograd import Variable\n",
    "import torch.nn as nn\n",
    "import torch.nn.functional as F\n",
    "import torch.optim as optim\n",
    "import torch.nn.init as init\n",
    "import numpy as np\n",
    "import pandas as pd \n",
    "import matplotlib.pyplot as plt\n",
    "import math\n",
    "\n",
    "% matplotlib inline"
   ]
  },
  {
   "cell_type": "code",
   "execution_count": 2,
   "metadata": {
    "collapsed": true
   },
   "outputs": [],
   "source": [
    "class CausalConv1d(nn.Conv1d):\n",
    "    def __init__(self, in_channels, out_channels, kernel_size, stride=1, dilation=1, groups=1, bias=True):\n",
    "        super(CausalConv1d, self).__init__( in_channels, out_channels, kernel_size, stride=stride, padding=0,\n",
    "            dilation=dilation, groups=groups, bias=bias)\n",
    "\n",
    "        self.left_padding = dilation * (kernel_size - 1)\n",
    "        self.weight = init.xavier_uniform(self.weight, gain=np.sqrt(2))\n",
    "        self.bias = init.constant(self.bias, 0.1)\n",
    "\n",
    "\n",
    "    def forward(self, input):\n",
    "\n",
    "        temp = torch.unsqueeze(input, 0)\n",
    "        x = F.pad(temp, (self.left_padding, 0, 0, 0))\n",
    "        x = torch.squeeze(x, 0)\n",
    "\n",
    "        \n",
    "        return super(CausalConv1d, self).forward(x)"
   ]
  },
  {
   "cell_type": "code",
   "execution_count": 9,
   "metadata": {
    "collapsed": true
   },
   "outputs": [],
   "source": [
    "class Net(nn.Module):\n",
    "    def __init__(self):\n",
    "        super(Net, self).__init__()\n",
    "        self.conv1 = CausalConv1d(1, 1, 2, dilation = 512)\n",
    "        self.conv2 = CausalConv1d(1, 1, 2, dilation = 256)\n",
    "        self.conv3 = CausalConv1d(1, 1, 2, dilation = 128)\n",
    "        self.conv4 = CausalConv1d(1, 1, 2, dilation = 64)\n",
    "        self.conv5 = CausalConv1d(1, 1, 2, dilation = 32)\n",
    "        self.conv6 = CausalConv1d(1, 1, 2, dilation = 16)\n",
    "        self.conv7 = CausalConv1d(1, 1, 2, dilation = 8)\n",
    "        self.conv8 = CausalConv1d(1, 1, 2, dilation = 4)\n",
    "        self.conv9 = CausalConv1d(1, 1, 2, dilation = 2)\n",
    "        self.conv10 = CausalConv1d(1, 1, 2, dilation = 1)\n",
    "        self.Tanh = nn.Tanh()\n",
    "        self.ReLU = nn.ReLU()\n",
    "        self.Sigmoid = nn.Sigmoid()\n",
    "        self.oneone = nn.Conv1d(1, 1, 1)\n",
    "        self.LogSoftmax = nn.LogSoftmax(1)\n",
    "    \n",
    "    def forward(self, x):\n",
    "        x1 = self.conv10(x)\n",
    "      \n",
    "        x2 = self.conv9(x1)\n",
    "        t2 = self.Tanh(x2)\n",
    "        s2 = self.Sigmoid(x2)\n",
    "        element2 = t2 * s2\n",
    "        oneone2 = self.oneone(element2) \n",
    "        resAdd1 = oneone2 + x1\n",
    "        \n",
    "        x3 = self.conv8(resAdd1)\n",
    "        t3 = self.Tanh(x3)\n",
    "        s3 = self.Sigmoid(x3)\n",
    "        element3 = t3 * s3\n",
    "        oneone3 = self.oneone(element3)\n",
    "        resAdd2 = oneone3 + oneone2\n",
    "        \n",
    "        x4 = self.conv7(resAdd2)\n",
    "        t4 = self.Tanh(x4)\n",
    "        s4 = self.Sigmoid(x4)\n",
    "        element4 = t4 * s4\n",
    "        oneone4 = self.oneone(element4)\n",
    "        resAdd3 = oneone4 + oneone3\n",
    "        \n",
    "        x5 = self.conv6(resAdd3)\n",
    "        t5 = self.Tanh(x5)\n",
    "        s5 = self.Sigmoid(x5)\n",
    "        element5 = t5 * s5\n",
    "        oneone5 = self.oneone(element5)\n",
    "        resAdd4 = oneone5 + oneone4\n",
    "         \n",
    "        x6 = self.conv5(resAdd4)\n",
    "        t6 = self.Tanh(x6)\n",
    "        s6 = self.Sigmoid(x6)\n",
    "        element6 = t6 * s6\n",
    "        oneone6 = self.oneone(element6)\n",
    "        resAdd5 = oneone6 + oneone5\n",
    "       \n",
    "        x7 = self.conv4(resAdd5)\n",
    "        t7 = self.Tanh(x7)\n",
    "        s7 = self.Sigmoid(x7)\n",
    "        element7 = t7 * s7\n",
    "        oneone7 = self.oneone(element7)\n",
    "        resAdd6 = oneone7 + oneone6\n",
    "        \n",
    "        x8 = self.conv3(resAdd6)\n",
    "        t8 = self.Tanh(x8)\n",
    "        s8 = self.Sigmoid(x8)\n",
    "        element8 = t8 * s8\n",
    "        oneone8 = self.oneone(element8)\n",
    "        resAdd7 = oneone8 + oneone7\n",
    "        \n",
    "        x9 = self.conv2(resAdd7)\n",
    "        t9 = self.Tanh(x9)\n",
    "        s9 = self.Sigmoid(x9)\n",
    "        element9 = t9 * s9\n",
    "        oneone9 = self.oneone(element9)\n",
    "        resAdd8 = oneone9 + oneone8\n",
    "        \n",
    "        x10 = self.conv1(resAdd8)\n",
    "        t10 = self.Tanh(x10)\n",
    "        s10 = self.Sigmoid(x10)\n",
    "        element10 = t10 * s10\n",
    "        oneone10 = self.oneone(element10)\n",
    "        resAdd9 = oneone10 + oneone9\n",
    "        \n",
    "        \n",
    "        x = oneone2 + oneone3 + oneone4 + oneone5 + oneone6 + oneone7 + oneone8 + oneone9 + oneone10\n",
    "\n",
    "        x = self.ReLU(x)\n",
    "        x = self.oneone(x)\n",
    "        x = self.ReLU(x)\n",
    "        x = self.oneone(x)\n",
    "        x = self.LogSoftmax(x)\n",
    "\n",
    "        return x"
   ]
  },
  {
   "cell_type": "code",
   "execution_count": 10,
   "metadata": {
    "scrolled": true
   },
   "outputs": [
    {
     "name": "stdout",
     "output_type": "stream",
     "text": [
      "Net(\n",
      "  (conv1): CausalConv1d (1, 1, kernel_size=(2,), stride=(1,), dilation=(512,))\n",
      "  (conv2): CausalConv1d (1, 1, kernel_size=(2,), stride=(1,), dilation=(256,))\n",
      "  (conv3): CausalConv1d (1, 1, kernel_size=(2,), stride=(1,), dilation=(128,))\n",
      "  (conv4): CausalConv1d (1, 1, kernel_size=(2,), stride=(1,), dilation=(64,))\n",
      "  (conv5): CausalConv1d (1, 1, kernel_size=(2,), stride=(1,), dilation=(32,))\n",
      "  (conv6): CausalConv1d (1, 1, kernel_size=(2,), stride=(1,), dilation=(16,))\n",
      "  (conv7): CausalConv1d (1, 1, kernel_size=(2,), stride=(1,), dilation=(8,))\n",
      "  (conv8): CausalConv1d (1, 1, kernel_size=(2,), stride=(1,), dilation=(4,))\n",
      "  (conv9): CausalConv1d (1, 1, kernel_size=(2,), stride=(1,), dilation=(2,))\n",
      "  (conv10): CausalConv1d (1, 1, kernel_size=(2,), stride=(1,))\n",
      "  (Tanh): Tanh()\n",
      "  (ReLU): ReLU()\n",
      "  (Sigmoid): Sigmoid()\n",
      "  (oneone): Conv1d (1, 1, kernel_size=(1,), stride=(1,))\n",
      "  (LogSoftmax): LogSoftmax()\n",
      ")\n"
     ]
    }
   ],
   "source": [
    "Network = Net()\n",
    "print(Network)"
   ]
  },
  {
   "cell_type": "code",
   "execution_count": 11,
   "metadata": {
    "collapsed": true
   },
   "outputs": [],
   "source": [
    "criterion = nn.CrossEntropyLoss()\n",
    "optimizer = optim.Adam(Network.parameters(), lr=2e-5)"
   ]
  },
  {
   "cell_type": "markdown",
   "metadata": {},
   "source": [
    "# Generate data"
   ]
  },
  {
   "cell_type": "code",
   "execution_count": 12,
   "metadata": {
    "collapsed": true
   },
   "outputs": [],
   "source": [
    "def batch_generator():\n",
    "    while True:\n",
    "        start = np.random.randint(-100, 100, size=1)\n",
    "        xs = np.linspace(start, start+np.pi*10, 4000)\n",
    "        ys = np.sin(xs) + np.random.rand(4000)*0.2-0.1\n",
    "        ys = ys.astype(np.float32) # default is np.float64\n",
    "        x = torch.from_numpy(ys).view(1,1,-1)\n",
    "        y = torch.from_numpy(ys[0:4000]).view(1,1,-1)\n",
    "        yield Variable(x), Variable(y)\n",
    "\n",
    "g = batch_generator()"
   ]
  },
  {
   "cell_type": "code",
   "execution_count": 13,
   "metadata": {
    "scrolled": false
   },
   "outputs": [
    {
     "data": {
      "text/plain": [
       "[<matplotlib.lines.Line2D at 0x7f3feb7064a8>]"
      ]
     },
     "execution_count": 13,
     "metadata": {},
     "output_type": "execute_result"
    },
    {
     "data": {
      "image/png": "[encoded data removed]",
      "text/plain": [
       "<matplotlib.figure.Figure at 0x7f3feb749630>"
      ]
     },
     "metadata": {},
     "output_type": "display_data"
    }
   ],
   "source": [
    "x, _ = next(g)\n",
    "plt.figure(figsize=[8,6])\n",
    "plt.plot(x.data.numpy()[0][0],'.', ms=3)"
   ]
  },
  {
   "cell_type": "markdown",
   "metadata": {},
   "source": [
    "# Training"
   ]
  },
  {
   "cell_type": "code",
   "execution_count": 14,
   "metadata": {},
   "outputs": [
    {
     "name": "stdout",
     "output_type": "stream",
     "text": [
      "epoch 0, loss   0.5048\n",
      "epoch 1000, loss   0.4996\n",
      "epoch 2000, loss   0.5023\n",
      "epoch 3000, loss   0.5041\n",
      "epoch 4000, loss   0.5051\n"
     ]
    },
    {
     "ename": "KeyboardInterrupt",
     "evalue": "",
     "output_type": "error",
     "traceback": [
      "\u001b[0;31m-------------------------------\u001b[0m",
      "\u001b[0;31mKeyboardInterrupt\u001b[0mTraceback (most recent call last)",
      "\u001b[0;32m<ipython-input-14-783e632adafa>\u001b[0m in \u001b[0;36m<module>\u001b[0;34m()\u001b[0m\n\u001b[1;32m      6\u001b[0m \u001b[0;34m\u001b[0m\u001b[0m\n\u001b[1;32m      7\u001b[0m     \u001b[0moptimizer\u001b[0m\u001b[0;34m.\u001b[0m\u001b[0mzero_grad\u001b[0m\u001b[0;34m(\u001b[0m\u001b[0;34m)\u001b[0m\u001b[0;34m\u001b[0m\u001b[0m\n\u001b[0;32m----> 8\u001b[0;31m     \u001b[0moutput\u001b[0m \u001b[0;34m=\u001b[0m \u001b[0mNetwork\u001b[0m\u001b[0;34m(\u001b[0m\u001b[0minputs\u001b[0m\u001b[0;34m)\u001b[0m\u001b[0;34m\u001b[0m\u001b[0m\n\u001b[0m\u001b[1;32m      9\u001b[0m \u001b[0;34m\u001b[0m\u001b[0m\n\u001b[1;32m     10\u001b[0m     \u001b[0mloss\u001b[0m \u001b[0;34m=\u001b[0m \u001b[0;34m(\u001b[0m\u001b[0;34m(\u001b[0m\u001b[0moutput\u001b[0m\u001b[0;34m-\u001b[0m\u001b[0mtarget\u001b[0m\u001b[0;34m)\u001b[0m\u001b[0;34m**\u001b[0m\u001b[0;36m2\u001b[0m\u001b[0;34m)\u001b[0m\u001b[0;34m.\u001b[0m\u001b[0mmean\u001b[0m\u001b[0;34m(\u001b[0m\u001b[0;34m)\u001b[0m\u001b[0;34m\u001b[0m\u001b[0m\n",
      "\u001b[0;32m~/anaconda2/envs/py36/lib/python3.6/site-packages/torch/nn/modules/module.py\u001b[0m in \u001b[0;36m__call__\u001b[0;34m(self, *input, **kwargs)\u001b[0m\n\u001b[1;32m    323\u001b[0m         \u001b[0;32mfor\u001b[0m \u001b[0mhook\u001b[0m \u001b[0;32min\u001b[0m \u001b[0mself\u001b[0m\u001b[0;34m.\u001b[0m\u001b[0m_forward_pre_hooks\u001b[0m\u001b[0;34m.\u001b[0m\u001b[0mvalues\u001b[0m\u001b[0;34m(\u001b[0m\u001b[0;34m)\u001b[0m\u001b[0;34m:\u001b[0m\u001b[0;34m\u001b[0m\u001b[0m\n\u001b[1;32m    324\u001b[0m             \u001b[0mhook\u001b[0m\u001b[0;34m(\u001b[0m\u001b[0mself\u001b[0m\u001b[0;34m,\u001b[0m \u001b[0minput\u001b[0m\u001b[0;34m)\u001b[0m\u001b[0;34m\u001b[0m\u001b[0m\n\u001b[0;32m--> 325\u001b[0;31m         \u001b[0mresult\u001b[0m \u001b[0;34m=\u001b[0m \u001b[0mself\u001b[0m\u001b[0;34m.\u001b[0m\u001b[0mforward\u001b[0m\u001b[0;34m(\u001b[0m\u001b[0;34m*\u001b[0m\u001b[0minput\u001b[0m\u001b[0;34m,\u001b[0m \u001b[0;34m**\u001b[0m\u001b[0mkwargs\u001b[0m\u001b[0;34m)\u001b[0m\u001b[0;34m\u001b[0m\u001b[0m\n\u001b[0m\u001b[1;32m    326\u001b[0m         \u001b[0;32mfor\u001b[0m \u001b[0mhook\u001b[0m \u001b[0;32min\u001b[0m \u001b[0mself\u001b[0m\u001b[0;34m.\u001b[0m\u001b[0m_forward_hooks\u001b[0m\u001b[0;34m.\u001b[0m\u001b[0mvalues\u001b[0m\u001b[0;34m(\u001b[0m\u001b[0;34m)\u001b[0m\u001b[0;34m:\u001b[0m\u001b[0;34m\u001b[0m\u001b[0m\n\u001b[1;32m    327\u001b[0m             \u001b[0mhook_result\u001b[0m \u001b[0;34m=\u001b[0m \u001b[0mhook\u001b[0m\u001b[0;34m(\u001b[0m\u001b[0mself\u001b[0m\u001b[0;34m,\u001b[0m \u001b[0minput\u001b[0m\u001b[0;34m,\u001b[0m \u001b[0mresult\u001b[0m\u001b[0;34m)\u001b[0m\u001b[0;34m\u001b[0m\u001b[0m\n",
      "\u001b[0;32m<ipython-input-9-0726c508584d>\u001b[0m in \u001b[0;36mforward\u001b[0;34m(self, x)\u001b[0m\n\u001b[1;32m     81\u001b[0m         \u001b[0ms10\u001b[0m \u001b[0;34m=\u001b[0m \u001b[0mself\u001b[0m\u001b[0;34m.\u001b[0m\u001b[0mSigmoid\u001b[0m\u001b[0;34m(\u001b[0m\u001b[0mx10\u001b[0m\u001b[0;34m)\u001b[0m\u001b[0;34m\u001b[0m\u001b[0m\n\u001b[1;32m     82\u001b[0m         \u001b[0melement10\u001b[0m \u001b[0;34m=\u001b[0m \u001b[0mt10\u001b[0m \u001b[0;34m*\u001b[0m \u001b[0ms10\u001b[0m\u001b[0;34m\u001b[0m\u001b[0m\n\u001b[0;32m---> 83\u001b[0;31m         \u001b[0moneone10\u001b[0m \u001b[0;34m=\u001b[0m \u001b[0mself\u001b[0m\u001b[0;34m.\u001b[0m\u001b[0moneone\u001b[0m\u001b[0;34m(\u001b[0m\u001b[0melement10\u001b[0m\u001b[0;34m)\u001b[0m\u001b[0;34m\u001b[0m\u001b[0m\n\u001b[0m\u001b[1;32m     84\u001b[0m         \u001b[0mresAdd9\u001b[0m \u001b[0;34m=\u001b[0m \u001b[0moneone10\u001b[0m \u001b[0;34m+\u001b[0m \u001b[0moneone9\u001b[0m\u001b[0;34m\u001b[0m\u001b[0m\n\u001b[1;32m     85\u001b[0m \u001b[0;34m\u001b[0m\u001b[0m\n",
      "\u001b[0;32m~/anaconda2/envs/py36/lib/python3.6/site-packages/torch/nn/modules/module.py\u001b[0m in \u001b[0;36m__call__\u001b[0;34m(self, *input, **kwargs)\u001b[0m\n\u001b[1;32m    323\u001b[0m         \u001b[0;32mfor\u001b[0m \u001b[0mhook\u001b[0m \u001b[0;32min\u001b[0m \u001b[0mself\u001b[0m\u001b[0;34m.\u001b[0m\u001b[0m_forward_pre_hooks\u001b[0m\u001b[0;34m.\u001b[0m\u001b[0mvalues\u001b[0m\u001b[0;34m(\u001b[0m\u001b[0;34m)\u001b[0m\u001b[0;34m:\u001b[0m\u001b[0;34m\u001b[0m\u001b[0m\n\u001b[1;32m    324\u001b[0m             \u001b[0mhook\u001b[0m\u001b[0;34m(\u001b[0m\u001b[0mself\u001b[0m\u001b[0;34m,\u001b[0m \u001b[0minput\u001b[0m\u001b[0;34m)\u001b[0m\u001b[0;34m\u001b[0m\u001b[0m\n\u001b[0;32m--> 325\u001b[0;31m         \u001b[0mresult\u001b[0m \u001b[0;34m=\u001b[0m \u001b[0mself\u001b[0m\u001b[0;34m.\u001b[0m\u001b[0mforward\u001b[0m\u001b[0;34m(\u001b[0m\u001b[0;34m*\u001b[0m\u001b[0minput\u001b[0m\u001b[0;34m,\u001b[0m \u001b[0;34m**\u001b[0m\u001b[0mkwargs\u001b[0m\u001b[0;34m)\u001b[0m\u001b[0;34m\u001b[0m\u001b[0m\n\u001b[0m\u001b[1;32m    326\u001b[0m         \u001b[0;32mfor\u001b[0m \u001b[0mhook\u001b[0m \u001b[0;32min\u001b[0m \u001b[0mself\u001b[0m\u001b[0;34m.\u001b[0m\u001b[0m_forward_hooks\u001b[0m\u001b[0;34m.\u001b[0m\u001b[0mvalues\u001b[0m\u001b[0;34m(\u001b[0m\u001b[0;34m)\u001b[0m\u001b[0;34m:\u001b[0m\u001b[0;34m\u001b[0m\u001b[0m\n\u001b[1;32m    327\u001b[0m             \u001b[0mhook_result\u001b[0m \u001b[0;34m=\u001b[0m \u001b[0mhook\u001b[0m\u001b[0;34m(\u001b[0m\u001b[0mself\u001b[0m\u001b[0;34m,\u001b[0m \u001b[0minput\u001b[0m\u001b[0;34m,\u001b[0m \u001b[0mresult\u001b[0m\u001b[0;34m)\u001b[0m\u001b[0;34m\u001b[0m\u001b[0m\n",
      "\u001b[0;31mKeyboardInterrupt\u001b[0m: "
     ]
    }
   ],
   "source": [
    "max_epoch = 50000\n",
    "\n",
    "loss_save = []\n",
    "for epoch in range(max_epoch):\n",
    "    inputs, target = next(g)\n",
    "    \n",
    "    optimizer.zero_grad()\n",
    "    output = Network(inputs)\n",
    "    \n",
    "    loss = ((output-target)**2).mean()\n",
    "    loss.backward()\n",
    "    torch.nn.utils.clip_grad_norm(Network.parameters(), 0.002)\n",
    "    optimizer.step()\n",
    "    \n",
    "    loss_save.append(loss.data[0])\n",
    "    if epoch%1000 == 0:\n",
    "        print('epoch {}, loss {:8.4g}'.format(epoch, loss.data[0]))"
   ]
  },
  {
   "cell_type": "code",
   "execution_count": null,
   "metadata": {},
   "outputs": [],
   "source": [
    "plt.figure(figsize=[8,6])\n",
    "plt.plot(np.convolve(loss_save, np.ones(10)/10))\n",
    "plt.xlabel('epoch')\n",
    "plt.ylabel('loss')\n",
    "plt.title('averaged loss')\n",
    "plt.xlim([0,10000])"
   ]
  },
  {
   "cell_type": "markdown",
   "metadata": {},
   "source": [
    "# Predict from test batch"
   ]
  },
  {
   "cell_type": "code",
   "execution_count": null,
   "metadata": {
    "collapsed": true
   },
   "outputs": [],
   "source": [
    "x, _ = next(g)\n",
    "x = x.data.numpy()\n",
    "n = 5000\n",
    "\n",
    "predict_save = []\n",
    "for _ in range(n):\n",
    "    inputs = Variable(torch.from_numpy(x))\n",
    "    predict = Network(inputs)\n",
    "    predict_save.append(predict.data[0][0][-1])\n",
    "    x = np.roll(x, -1, axis=2)\n",
    "    x[0][0][-1] = predict.data[0][0][-1]"
   ]
  },
  {
   "cell_type": "code",
   "execution_count": null,
   "metadata": {
    "scrolled": false
   },
   "outputs": [],
   "source": [
    "plt.figure(figsize=[8,6])\n",
    "plt.plot(predict_save)\n",
    "plt.xlim([0,5000])"
   ]
  },
  {
   "cell_type": "markdown",
   "metadata": {},
   "source": [
    "# Predict from random input"
   ]
  },
  {
   "cell_type": "code",
   "execution_count": null,
   "metadata": {
    "collapsed": true
   },
   "outputs": [],
   "source": [
    "x = np.random.rand(1,1,1000).astype(np.float32)\n",
    "n = 5000\n",
    "\n",
    "predict_save = []\n",
    "for _ in range(n):\n",
    "    inputs = Variable(torch.from_numpy(x))\n",
    "    predict = Network(inputs)\n",
    "    predict_save.append(predict.data[0][0][-1])\n",
    "    x = np.roll(x, -1, axis=2)\n",
    "    x[0][0][-1] = predict.data[0][0][-1]"
   ]
  },
  {
   "cell_type": "code",
   "execution_count": null,
   "metadata": {
    "scrolled": false
   },
   "outputs": [],
   "source": [
    "plt.figure(figsize=[8,6])\n",
    "plt.plot(predict_save)\n",
    "plt.xlim([0,5000])"
   ]
  },
  {
   "cell_type": "code",
   "execution_count": null,
   "metadata": {
    "collapsed": true
   },
   "outputs": [],
   "source": []
  }
 ],
 "metadata": {
  "kernelspec": {
   "display_name": "Python 3",
   "language": "python",
   "name": "python3"
  },
  "language_info": {
   "codemirror_mode": {
    "name": "ipython",
    "version": 3
   },
   "file_extension": ".py",
   "mimetype": "text/x-python",
   "name": "python",
   "nbconvert_exporter": "python",
   "pygments_lexer": "ipython3",
   "version": "3.6.3"
  }
 },
 "nbformat": 4,
 "nbformat_minor": 2
}
