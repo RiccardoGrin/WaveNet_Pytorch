{
 "cells": [
  {
   "cell_type": "code",
   "execution_count": 1,
   "metadata": {
    "collapsed": true
   },
   "outputs": [],
   "source": [
    "import torch\n",
    "from torch.autograd import Variable\n",
    "import torch.nn as nn\n",
    "import torch.nn.functional as F\n",
    "import torch.optim as optim\n",
    "import torch.nn.init as init\n",
    "import numpy as np\n",
    "import pandas as pd \n",
    "import matplotlib.pyplot as plt\n",
    "import math\n",
    "\n",
    "% matplotlib inline"
   ]
  },
  {
   "cell_type": "code",
   "execution_count": 2,
   "metadata": {
    "collapsed": true
   },
   "outputs": [],
   "source": [
    "class CausalConv1d(nn.Conv1d):\n",
    "    def __init__(self, in_channels, out_channels, kernel_size, stride=1, dilation=1, groups=1, bias=True):\n",
    "        super(CausalConv1d, self).__init__( in_channels, out_channels, kernel_size, stride=stride, padding=0,\n",
    "            dilation=dilation, groups=groups, bias=bias)\n",
    "\n",
    "        self.left_padding = dilation * (kernel_size - 1)\n",
    "        self.weight = init.xavier_uniform(self.weight, gain=np.sqrt(2))\n",
    "        self.bias = init.constant(self.bias, 0.1)\n",
    "\n",
    "\n",
    "    def forward(self, input):\n",
    "\n",
    "        temp = torch.unsqueeze(input, 0)\n",
    "        x = F.pad(temp, (self.left_padding, 0, 0, 0))\n",
    "        x = torch.squeeze(x, 0)\n",
    "\n",
    "        \n",
    "        return super(CausalConv1d, self).forward(x)"
   ]
  },
  {
   "cell_type": "code",
   "execution_count": 3,
   "metadata": {
    "collapsed": true
   },
   "outputs": [],
   "source": [
    "class Net(nn.Module):\n",
    "    def __init__(self):\n",
    "        super(Net, self).__init__()\n",
    "        self.conv1 = CausalConv1d(1, 1, 2, dilation = 512)\n",
    "        self.conv2 = CausalConv1d(1, 1, 2, dilation = 256)\n",
    "        self.conv3 = CausalConv1d(1, 1, 2, dilation = 128)\n",
    "        self.conv4 = CausalConv1d(1, 1, 2, dilation = 64)\n",
    "        self.conv5 = CausalConv1d(1, 1, 2, dilation = 32)\n",
    "        self.conv6 = CausalConv1d(1, 1, 2, dilation = 16)\n",
    "        self.conv7 = CausalConv1d(1, 1, 2, dilation = 8)\n",
    "        self.conv8 = CausalConv1d(1, 1, 2, dilation = 4)\n",
    "        self.conv9 = CausalConv1d(1, 1, 2, dilation = 2)\n",
    "        self.conv10 = CausalConv1d(1, 1, 2, dilation = 1)\n",
    "        self.Tanh = nn.Tanh()\n",
    "        self.ReLU = nn.ReLU()\n",
    "        self.Sigmoid = nn.Sigmoid()\n",
    "        self.oneone = nn.Conv1d(1, 1, 1)\n",
    "        self.LogSoftmax = nn.LogSoftmax(1)\n",
    "    \n",
    "    def forward(self, x):\n",
    "        x1 = self.conv10(x)\n",
    "      \n",
    "        x2 = self.conv9(x1)\n",
    "        t2 = self.Tanh(x2)\n",
    "        s2 = self.Sigmoid(x2)\n",
    "        element2 = t2 * s2\n",
    "        oneone2 = self.oneone(element2) \n",
    "        resAdd1 = oneone2 + x1\n",
    "        \n",
    "        x3 = self.conv8(resAdd1)\n",
    "        t3 = self.Tanh(x3)\n",
    "        s3 = self.Sigmoid(x3)\n",
    "        element3 = t3 * s3\n",
    "        oneone3 = self.oneone(element3)\n",
    "        resAdd2 = oneone3 + oneone2\n",
    "        \n",
    "        x4 = self.conv7(resAdd2)\n",
    "        t4 = self.Tanh(x4)\n",
    "        s4 = self.Sigmoid(x4)\n",
    "        element4 = t4 * s4\n",
    "        oneone4 = self.oneone(element4)\n",
    "        resAdd3 = oneone4 + oneone3\n",
    "        \n",
    "        x5 = self.conv6(resAdd3)\n",
    "        t5 = self.Tanh(x5)\n",
    "        s5 = self.Sigmoid(x5)\n",
    "        element5 = t5 * s5\n",
    "        oneone5 = self.oneone(element5)\n",
    "        resAdd4 = oneone5 + oneone4\n",
    "         \n",
    "        x6 = self.conv5(resAdd4)\n",
    "        t6 = self.Tanh(x6)\n",
    "        s6 = self.Sigmoid(x6)\n",
    "        element6 = t6 * s6\n",
    "        oneone6 = self.oneone(element6)\n",
    "        resAdd5 = oneone6 + oneone5\n",
    "       \n",
    "        x7 = self.conv4(resAdd5)\n",
    "        t7 = self.Tanh(x7)\n",
    "        s7 = self.Sigmoid(x7)\n",
    "        element7 = t7 * s7\n",
    "        oneone7 = self.oneone(element7)\n",
    "        resAdd6 = oneone7 + oneone6\n",
    "        \n",
    "        x8 = self.conv3(resAdd6)\n",
    "        t8 = self.Tanh(x8)\n",
    "        s8 = self.Sigmoid(x8)\n",
    "        element8 = t8 * s8\n",
    "        oneone8 = self.oneone(element8)\n",
    "        resAdd7 = oneone8 + oneone7\n",
    "        \n",
    "        x9 = self.conv2(resAdd7)\n",
    "        t9 = self.Tanh(x9)\n",
    "        s9 = self.Sigmoid(x9)\n",
    "        element9 = t9 * s9\n",
    "        oneone9 = self.oneone(element9)\n",
    "        resAdd8 = oneone9 + oneone8\n",
    "        \n",
    "        x10 = self.conv1(resAdd8)\n",
    "        t10 = self.Tanh(x10)\n",
    "        s10 = self.Sigmoid(x10)\n",
    "        element10 = t10 * s10\n",
    "        oneone10 = self.oneone(element10)\n",
    "        resAdd9 = oneone10 + oneone9\n",
    "        \n",
    "        \n",
    "        x = oneone2 + oneone3 + oneone4 + oneone5 + oneone6 + oneone7 + oneone8 + oneone9 + oneone10\n",
    "\n",
    "        x = self.ReLU(x)\n",
    "        x = self.oneone(x)\n",
    "        x = self.ReLU(x)\n",
    "        x = self.oneone(x)\n",
    "        x = self.LogSoftmax(x)\n",
    "\n",
    "        return x"
   ]
  },
  {
   "cell_type": "code",
   "execution_count": 5,
   "metadata": {
    "scrolled": false
   },
   "outputs": [
    {
     "name": "stdout",
     "output_type": "stream",
     "text": [
      "CUDA Enabled; Running on GPU\n",
      "Net(\n",
      "  (conv1): CausalConv1d (1, 1, kernel_size=(2,), stride=(1,), dilation=(512,))\n",
      "  (conv2): CausalConv1d (1, 1, kernel_size=(2,), stride=(1,), dilation=(256,))\n",
      "  (conv3): CausalConv1d (1, 1, kernel_size=(2,), stride=(1,), dilation=(128,))\n",
      "  (conv4): CausalConv1d (1, 1, kernel_size=(2,), stride=(1,), dilation=(64,))\n",
      "  (conv5): CausalConv1d (1, 1, kernel_size=(2,), stride=(1,), dilation=(32,))\n",
      "  (conv6): CausalConv1d (1, 1, kernel_size=(2,), stride=(1,), dilation=(16,))\n",
      "  (conv7): CausalConv1d (1, 1, kernel_size=(2,), stride=(1,), dilation=(8,))\n",
      "  (conv8): CausalConv1d (1, 1, kernel_size=(2,), stride=(1,), dilation=(4,))\n",
      "  (conv9): CausalConv1d (1, 1, kernel_size=(2,), stride=(1,), dilation=(2,))\n",
      "  (conv10): CausalConv1d (1, 1, kernel_size=(2,), stride=(1,))\n",
      "  (Tanh): Tanh()\n",
      "  (ReLU): ReLU()\n",
      "  (Sigmoid): Sigmoid()\n",
      "  (oneone): Conv1d (1, 1, kernel_size=(1,), stride=(1,))\n",
      "  (LogSoftmax): LogSoftmax()\n",
      ")\n"
     ]
    }
   ],
   "source": [
    "Network = Net()\n",
    "\n",
    "if (torch.cuda.is_available()):\n",
    "    Network.cuda()\n",
    "    print('CUDA Enabled; Running on GPU')\n",
    "    \n",
    "print(Network)"
   ]
  },
  {
   "cell_type": "code",
   "execution_count": 6,
   "metadata": {
    "collapsed": true
   },
   "outputs": [],
   "source": [
    "criterion = nn.CrossEntropyLoss()\n",
    "optimizer = optim.Adam(Network.parameters(), lr=2e-5)"
   ]
  },
  {
   "cell_type": "markdown",
   "metadata": {},
   "source": [
    "# Generate data"
   ]
  },
  {
   "cell_type": "code",
   "execution_count": 15,
   "metadata": {
    "collapsed": true
   },
   "outputs": [],
   "source": [
    "def batch_generator():\n",
    "    while True:\n",
    "        start = np.random.randint(-100, 100, size=1)\n",
    "        xs = np.linspace(start, start+np.pi*10, 4000)\n",
    "        ys = np.sin(xs) + np.random.rand(4000)*0.2-0.1\n",
    "        ys = ys.astype(np.float32) # default is np.float64\n",
    "        x = torch.from_numpy(ys).view(1,1,-1)\n",
    "        y = torch.from_numpy(ys[0:4000]).view(1,1,-1)\n",
    "        if (torch.cuda.is_available()):\n",
    "            x = x.cuda()\n",
    "            y = y.cuda()\n",
    "            \n",
    "        yield Variable(x), Variable(y)\n",
    "\n",
    "g = batch_generator()"
   ]
  },
  {
   "cell_type": "code",
   "execution_count": 16,
   "metadata": {
    "scrolled": false
   },
   "outputs": [
    {
     "data": {
      "text/plain": [
       "[<matplotlib.lines.Line2D at 0x7f457f773eb8>]"
      ]
     },
     "execution_count": 16,
     "metadata": {},
     "output_type": "execute_result"
    },
    {
     "data": {
      "image/png": "[encoded data removed]",
      "text/plain": [
       "<matplotlib.figure.Figure at 0x7f457f74c400>"
      ]
     },
     "metadata": {},
     "output_type": "display_data"
    }
   ],
   "source": [
    "x, _ = next(g)\n",
    "plt.figure(figsize=[8,6])\n",
    "plt.plot(x.cpu().data.numpy()[0][0],'.', ms=3)"
   ]
  },
  {
   "cell_type": "markdown",
   "metadata": {},
   "source": [
    "# Training"
   ]
  },
  {
   "cell_type": "code",
   "execution_count": 18,
   "metadata": {},
   "outputs": [
    {
     "name": "stdout",
     "output_type": "stream",
     "text": [
      "epoch 0, loss   0.5042\n",
      "epoch 1000, loss   0.5049\n",
      "epoch 2000, loss   0.5023\n",
      "epoch 3000, loss   0.5011\n",
      "epoch 4000, loss   0.5008\n",
      "epoch 5000, loss   0.5052\n",
      "epoch 6000, loss   0.5029\n",
      "epoch 7000, loss   0.5047\n",
      "epoch 8000, loss   0.5025\n",
      "epoch 9000, loss   0.5039\n"
     ]
    }
   ],
   "source": [
    "max_epoch = 10000\n",
    "\n",
    "loss_save = []\n",
    "for epoch in range(max_epoch):\n",
    "    inputs, target = next(g)\n",
    "    \n",
    "    optimizer.zero_grad()\n",
    "    output = Network(inputs)\n",
    "    \n",
    "    loss = ((output-target)**2).mean()\n",
    "    loss.backward()\n",
    "    torch.nn.utils.clip_grad_norm(Network.parameters(), 0.002)\n",
    "    optimizer.step()\n",
    "    \n",
    "    loss_save.append(loss.data[0])\n",
    "    if epoch%1000 == 0:\n",
    "        print('epoch {}, loss {:8.4g}'.format(epoch, loss.data[0]))"
   ]
  },
  {
   "cell_type": "code",
   "execution_count": 19,
   "metadata": {},
   "outputs": [
    {
     "data": {
      "text/plain": [
       "(0, 10000)"
      ]
     },
     "execution_count": 19,
     "metadata": {},
     "output_type": "execute_result"
    },
    {
     "data": {
      "image/png": "[encoded data removed]",
      "text/plain": [
       "<matplotlib.figure.Figure at 0x7f457f714a90>"
      ]
     },
     "metadata": {},
     "output_type": "display_data"
    }
   ],
   "source": [
    "plt.figure(figsize=[8,6])\n",
    "plt.plot(np.convolve(loss_save, np.ones(10)/10))\n",
    "plt.xlabel('epoch')\n",
    "plt.ylabel('loss')\n",
    "plt.title('averaged loss')\n",
    "plt.xlim([0,10000])"
   ]
  },
  {
   "cell_type": "markdown",
   "metadata": {},
   "source": [
    "# Predict from test batch"
   ]
  },
  {
   "cell_type": "code",
   "execution_count": 33,
   "metadata": {
    "collapsed": true
   },
   "outputs": [],
   "source": [
    "x, _ = next(g)\n",
    "x = x.cpu().data.numpy()\n",
    "n = 5000\n",
    "\n",
    "predict_save = []\n",
    "for _ in range(n):\n",
    "    inputs = Variable(torch.from_numpy(x))\n",
    "    \n",
    "    if (torch.cuda.is_available()):\n",
    "        inputs = inputs.type(torch.cuda.FloatTensor)\n",
    "    \n",
    "    predict = Network(inputs)\n",
    "    predict_save.append(predict.data[0][0][-1])\n",
    "    x = np.roll(x, -1, axis=2)\n",
    "    x[0][0][-1] = predict.data[0][0][-1]"
   ]
  },
  {
   "cell_type": "code",
   "execution_count": 34,
   "metadata": {
    "scrolled": false
   },
   "outputs": [
    {
     "data": {
      "text/plain": [
       "(0, 5000)"
      ]
     },
     "execution_count": 34,
     "metadata": {},
     "output_type": "execute_result"
    },
    {
     "data": {
      "image/png": "[encoded data removed]",
      "text/plain": [
       "<matplotlib.figure.Figure at 0x7f457ed49f60>"
      ]
     },
     "metadata": {},
     "output_type": "display_data"
    }
   ],
   "source": [
    "plt.figure(figsize=[8,6])\n",
    "plt.plot(predict_save)\n",
    "plt.xlim([0,5000])"
   ]
  },
  {
   "cell_type": "markdown",
   "metadata": {},
   "source": [
    "# Predict from random input"
   ]
  },
  {
   "cell_type": "code",
   "execution_count": 35,
   "metadata": {
    "collapsed": true
   },
   "outputs": [],
   "source": [
    "x = np.random.rand(1,1,1000).astype(np.float32)\n",
    "n = 5000\n",
    "\n",
    "predict_save = []\n",
    "for _ in range(n):\n",
    "    inputs = Variable(torch.from_numpy(x))\n",
    "    \n",
    "    if (torch.cuda.is_available()):\n",
    "        inputs = inputs.type(torch.cuda.FloatTensor)\n",
    "    \n",
    "    predict = Network(inputs)\n",
    "    predict_save.append(predict.data[0][0][-1])\n",
    "    x = np.roll(x, -1, axis=2)\n",
    "    x[0][0][-1] = predict.data[0][0][-1]"
   ]
  },
  {
   "cell_type": "code",
   "execution_count": 36,
   "metadata": {
    "scrolled": false
   },
   "outputs": [
    {
     "data": {
      "text/plain": [
       "(0, 5000)"
      ]
     },
     "execution_count": 36,
     "metadata": {},
     "output_type": "execute_result"
    },
    {
     "data": {
      "image/png": "[encoded data removed]",
      "text/plain": [
       "<matplotlib.figure.Figure at 0x7f457ec6bc50>"
      ]
     },
     "metadata": {},
     "output_type": "display_data"
    }
   ],
   "source": [
    "plt.figure(figsize=[8,6])\n",
    "plt.plot(predict_save)\n",
    "plt.xlim([0,5000])"
   ]
  },
  {
   "cell_type": "code",
   "execution_count": null,
   "metadata": {
    "collapsed": true
   },
   "outputs": [],
   "source": []
  }
 ],
 "metadata": {
  "kernelspec": {
   "display_name": "Python 3",
   "language": "python",
   "name": "python3"
  },
  "language_info": {
   "codemirror_mode": {
    "name": "ipython",
    "version": 3
   },
   "file_extension": ".py",
   "mimetype": "text/x-python",
   "name": "python",
   "nbconvert_exporter": "python",
   "pygments_lexer": "ipython3",
   "version": "3.6.3"
  }
 },
 "nbformat": 4,
 "nbformat_minor": 2
}
